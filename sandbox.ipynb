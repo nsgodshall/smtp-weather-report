{
 "cells": [
  {
   "cell_type": "code",
   "execution_count": 4,
   "metadata": {},
   "outputs": [
    {
     "ename": "SyntaxError",
     "evalue": "invalid syntax (4098518374.py, line 3)",
     "output_type": "error",
     "traceback": [
      "\u001b[0;36m  Cell \u001b[0;32mIn[4], line 3\u001b[0;36m\u001b[0m\n\u001b[0;31m    import time import pandas as pd\u001b[0m\n\u001b[0m                ^\u001b[0m\n\u001b[0;31mSyntaxError\u001b[0m\u001b[0;31m:\u001b[0m invalid syntax\n"
     ]
    }
   ],
   "source": [
    "import requests\n",
    "import sys\n",
    "import time import pandas as pd"
   ]
  },
  {
   "cell_type": "code",
   "execution_count": 9,
   "metadata": {},
   "outputs": [
    {
     "name": "stdout",
     "output_type": "stream",
     "text": [
      "<!DOCTYPE HTML PUBLIC \"-//IETF//DTD HTML 2.0//EN\">\n",
      "<html><head>\n",
      "<title>503 Service Unavailable</title>\n",
      "</head><body>\n",
      "<h1>Service Unavailable</h1>\n",
      "<p>The server is temporarily unable to service your\n",
      "request due to maintenance downtime or capacity\n",
      "problems. Please try again later.</p>\n",
      "<p>Additionally, a 503 Service Unavailable\n",
      "error was encountered while trying to use an ErrorDocument to handle the request.</p>\n",
      "</body></html>\n",
      "\n",
      "<!DOCTYPE HTML PUBLIC \"-//IETF//DTD HTML 2.0//EN\">\n",
      "<html><head>\n",
      "<title>503 Service Unavailable</title>\n",
      "</head><body>\n",
      "<h1>Service Unavailable</h1>\n",
      "<p>The server is temporarily unable to service your\n",
      "request due to maintenance downtime or capacity\n",
      "problems. Please try again later.</p>\n",
      "<p>Additionally, a 503 Service Unavailable\n",
      "error was encountered while trying to use an ErrorDocument to handle the request.</p>\n",
      "</body></html>\n",
      "\n",
      "<!DOCTYPE HTML PUBLIC \"-//IETF//DTD HTML 2.0//EN\">\n",
      "<html><head>\n",
      "<title>503 Service Unavailable</title>\n",
      "</head><body>\n",
      "<h1>Service Unavailable</h1>\n",
      "<p>The server is temporarily unable to service your\n",
      "request due to maintenance downtime or capacity\n",
      "problems. Please try again later.</p>\n",
      "<p>Additionally, a 503 Service Unavailable\n",
      "error was encountered while trying to use an ErrorDocument to handle the request.</p>\n",
      "</body></html>\n",
      "\n",
      "FUCK NOAA\n"
     ]
    },
    {
     "ename": "SystemExit",
     "evalue": "1",
     "output_type": "error",
     "traceback": [
      "An exception has occurred, use %tb to see the full traceback.\n",
      "\u001b[0;31mSystemExit\u001b[0m\u001b[0;31m:\u001b[0m 1\n"
     ]
    },
    {
     "name": "stderr",
     "output_type": "stream",
     "text": [
      "/home/wildwood/nick/neural-nets-and-deep-learning/venv/lib/python3.12/site-packages/IPython/core/interactiveshell.py:3587: UserWarning: To exit: use 'exit', 'quit', or Ctrl-D.\n",
      "  warn(\"To exit: use 'exit', 'quit', or Ctrl-D.\", stacklevel=1)\n"
     ]
    }
   ],
   "source": [
    "token = \"AjGaCqeTnwXdfSpwcMnCRIYGHCDnVcRH\"\n",
    "CA_FIPS = \"06037\"\n",
    "headers={'token': token}\n",
    "\n",
    "# get high info\n",
    "totalTmax = 0\n",
    "totalTmin = 0\n",
    "totalDaysDidRain = 0\n",
    "maxTmax = (0, 1950)\n",
    "minTmin = (0, 1950)\n",
    "maxPrcp = (0, 1950)\n",
    "\n",
    "\n",
    "for year in range(1950, 2025): \n",
    "    url = f\"https://www.ncei.noaa.gov/cdo-web/api/v2/data?datasetid=GHCND&locationid=ZIP:91505&startdate={str(year)}-10-02&enddate={str(year)}-10-02&units=standard\"\n",
    "    attempt = 0\n",
    "    while attempt < 3:\n",
    "        resp = requests.get(headers=headers, url=url)\n",
    "        if resp.status_code == 503:\n",
    "            print(resp.text)\n",
    "            attempt +=1\n",
    "        else:\n",
    "            continue\n",
    "        if attempt == 3: \n",
    "            print(\"FUCK NOAA\")\n",
    "            sys.exit(1)\n",
    "    df = pd.DataFrame()\n",
    "    print(resp)\n",
    "    df = df.from_records(resp.json()['results'])\n",
    "        \n",
    "    \n",
    "    tmax = float(df[df['datatype'] == \"TMAX\"]['value'].values[0])\n",
    "    tmin = float(df[df['datatype'] == \"TMAX\"]['value'].values[0])\n",
    "    prcp = float(df[df['datatype'] == \"PRCP\"]['value'].values[0])\n",
    "    if (prcp > 0):\n",
    "        didRain = True\n",
    "    else:\n",
    "        didRain = False\n",
    "\n",
    "    if tmax > maxTmax[0]: maxTmax = (tmax, year)\n",
    "    if prcp > maxPrcp[0]: maxTmax = (prcp, year)\n",
    "    if tmin < minTmin[0]: minTmin = (tmin, year)\n",
    "    \n",
    "\n",
    "    totalTmax += tmax\n",
    "    totalTmin += tmin\n",
    "    if didRain:\n",
    "        totalDaysDidRain += 1\n",
    "\n",
    "    print(f\"Year: {year}, tmax: {tmax}, tmin: {tmin}, totalprcp: {prcp}, maxTmax: {maxTmax}, totalDaysDidRain: {totalDaysDidRain}\")\n",
    "\n",
    "    time.sleep(1)"
   ]
  },
  {
   "cell_type": "code",
   "execution_count": 5,
   "metadata": {},
   "outputs": [],
   "source": [
    "url = f\"https://www.ncei.noaa.gov/cdo-web/api/v2/data?datasetid=GHCND&locationid=ZIP:91505&startdate={year}-10-02&enddate={year}-10-02&units=standard\"\n"
   ]
  },
  {
   "cell_type": "code",
   "execution_count": 6,
   "metadata": {},
   "outputs": [
    {
     "data": {
      "text/plain": [
       "<Response [200]>"
      ]
     },
     "execution_count": 6,
     "metadata": {},
     "output_type": "execute_result"
    }
   ],
   "source": [
    "requests.get(url=url,headers=headers)"
   ]
  },
  {
   "cell_type": "code",
   "execution_count": 8,
   "metadata": {},
   "outputs": [
    {
     "data": {
      "text/plain": [
       "int"
      ]
     },
     "execution_count": 8,
     "metadata": {},
     "output_type": "execute_result"
    }
   ],
   "source": [
    "type(year)"
   ]
  },
  {
   "cell_type": "code",
   "execution_count": null,
   "metadata": {},
   "outputs": [],
   "source": []
  }
 ],
 "metadata": {
  "language_info": {
   "name": "python"
  }
 },
 "nbformat": 4,
 "nbformat_minor": 2
}
